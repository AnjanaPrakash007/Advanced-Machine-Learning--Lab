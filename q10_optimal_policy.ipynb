{
 "cells": [
  {
   "cell_type": "code",
   "execution_count": 4,
   "id": "ca2224c8-c8d5-43d6-8fc6-57a1e7899a6a",
   "metadata": {},
   "outputs": [
    {
     "name": "stdout",
     "output_type": "stream",
     "text": [
      "optimal policy\n",
      "UUUUUUUUUU\n",
      "UUUUUUUUUU\n",
      "UUGUUUUUUU\n",
      "UUUUUUUUUU\n",
      "UUUUUUUUUU\n",
      "UUUUUUUUUU\n",
      "UUUUUUUUUU\n",
      "UUUUUUUUUU\n",
      "UUUUUUUUUU\n",
      "UUUUUUUUUU\n"
     ]
    }
   ],
   "source": [
    "import numpy as np\n",
    "grid_size=10\n",
    "actions=['up','down','left','right']\n",
    "rewards=np.zeros((grid_size,grid_size))\n",
    "rewards[5,5]=1\n",
    "transition_probability={\n",
    "    'up':(lambda x,y:(max(x-1,0),y)),\n",
    "    'down':(lambda x,y:(min(x+1,grid_size-1),y)),\n",
    "    'left':(lambda x,y:(x,max(y-1,0))),\n",
    "    'right':(lambda x,y:(x,min(y+1,grid_size-1)))\n",
    "}\n",
    "def value_iteration(grid_size,rewards,transition_probability,actions,gamma=0.9,theta=1e-6):\n",
    "    value_table=np.zeros((grid_size,grid_size))\n",
    "    policy=np.zeros((grid_size,grid_size),dtype=object)\n",
    "    while True:\n",
    "      delta=0\n",
    "      for x in range(grid_size):\n",
    "        for y in range(grid_size):\n",
    "          if(x,y)==(5,5):\n",
    "            continue\n",
    "            v=value_table[x,y]\n",
    "            q_values=[]\n",
    "            for i,action in enumerate(actions):\n",
    "              (next_x,next_y)=transition_probability[action](x,y)\n",
    "              q_value=rewards[x,y]+gamma*value_table[next_x,next_y]\n",
    "              q_values.append(q_value)\n",
    "            value_table[x,y]=max(q_values)\n",
    "            policy[x,y]=np.argmax(q_values)\n",
    "            delta=max(delta,abs(v-value_table[x,y]))\n",
    "      if delta<theta:\n",
    "        break\n",
    "    return policy,value_table\n",
    "\n",
    "\n",
    "def print_policy(policy,actions):\n",
    "  policy_arrows=np.full(policy.shape,' ')\n",
    "  for x in range(policy.shape[0]):\n",
    "    for y in range(policy.shape[1]):\n",
    "      if(x,y)==(5,5):\n",
    "        policy_arrows[x,y]='G'\n",
    "\n",
    "      else:\n",
    "        policy_arrows[x,y]=actions[policy[x,y]][0].upper()\n",
    "  for row in policy_arrows:\n",
    "    print(''.join(row))\n",
    "policy, value_table = value_iteration(grid_size, rewards, transition_probability, actions)\n",
    "print(\"optimal policy\")\n",
    "print_policy(policy,actions)\n",
    "\n",
    "\n"
   ]
  },
  {
   "cell_type": "code",
   "execution_count": null,
   "id": "d6240c07-4dfb-42f5-9312-e6e7d376a12f",
   "metadata": {},
   "outputs": [],
   "source": []
  }
 ],
 "metadata": {
  "kernelspec": {
   "display_name": "Python 3 (ipykernel)",
   "language": "python",
   "name": "python3"
  },
  "language_info": {
   "codemirror_mode": {
    "name": "ipython",
    "version": 3
   },
   "file_extension": ".py",
   "mimetype": "text/x-python",
   "name": "python",
   "nbconvert_exporter": "python",
   "pygments_lexer": "ipython3",
   "version": "3.8.10"
  }
 },
 "nbformat": 4,
 "nbformat_minor": 5
}
