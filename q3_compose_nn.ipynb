{
 "cells": [
  {
   "cell_type": "code",
   "execution_count": 4,
   "id": "08f553d7-975a-4d3c-87bc-a62567fd898e",
   "metadata": {},
   "outputs": [
    {
     "name": "stdout",
     "output_type": "stream",
     "text": [
      "Epoch 1/5\n",
      "1875/1875 [==============================] - 5s 3ms/step - loss: 0.2426 - accuracy: 0.9300\n",
      "Epoch 2/5\n",
      "1875/1875 [==============================] - 5s 3ms/step - loss: 0.1047 - accuracy: 0.9679\n",
      "Epoch 3/5\n",
      "1875/1875 [==============================] - 5s 3ms/step - loss: 0.0723 - accuracy: 0.9780\n",
      "Epoch 4/5\n",
      "1875/1875 [==============================] - 5s 3ms/step - loss: 0.0550 - accuracy: 0.9822\n",
      "Epoch 5/5\n",
      "1875/1875 [==============================] - 5s 3ms/step - loss: 0.0438 - accuracy: 0.9855\n",
      "313/313 [==============================] - 1s 1ms/step - loss: 0.0909 - accuracy: 0.9729\n",
      "test accuracy:0.9728999733924866\n"
     ]
    }
   ],
   "source": [
    "# Use the MNIST dataset and compose a neural network with layers suitable for image\n",
    "# classification.\n",
    "import numpy as np\n",
    "import tensorflow as tf\n",
    "from tensorflow.keras.models import Sequential\n",
    "from tensorflow.keras.layers import Dense,Flatten\n",
    "from tensorflow.keras.datasets import mnist\n",
    "# loading dataset\n",
    "(X_train,y_train),(X_test,y_test)=mnist.load_data()\n",
    "# normalize\n",
    "X_train=X_train/255\n",
    "X_test=X_test/255\n",
    "# define NN model\n",
    "model=Sequential()\n",
    "# flatten input image\n",
    "model.add(Flatten(input_shape=(28,28)))\n",
    "# add fully connected layer 128 N relu activation func\n",
    "model.add(Dense(128,activation='relu'))\n",
    "# add fully connected layer 64 N relu activation func\n",
    "model.add(Dense(64,activation='relu'))\n",
    "# add output layer with 10N\n",
    "model.add(Dense(10,activation='softmax'))\n",
    "# compile the model\n",
    "model.compile(optimizer='adam',loss='sparse_categorical_crossentropy',metrics=['accuracy'])\n",
    "# train\n",
    "# evaluation\n",
    "model.fit(X_train,y_train,epochs=5)\n",
    "test_loss,test_acc=model.evaluate(X_test,y_test)\n",
    "print(f\"test accuracy:{test_acc}\")\n",
    "\n"
   ]
  },
  {
   "cell_type": "code",
   "execution_count": null,
   "id": "fe01cab9-324e-4d54-936f-25e7fc61b683",
   "metadata": {},
   "outputs": [],
   "source": []
  }
 ],
 "metadata": {
  "kernelspec": {
   "display_name": "Python 3 (ipykernel)",
   "language": "python",
   "name": "python3"
  },
  "language_info": {
   "codemirror_mode": {
    "name": "ipython",
    "version": 3
   },
   "file_extension": ".py",
   "mimetype": "text/x-python",
   "name": "python",
   "nbconvert_exporter": "python",
   "pygments_lexer": "ipython3",
   "version": "3.8.10"
  }
 },
 "nbformat": 4,
 "nbformat_minor": 5
}
