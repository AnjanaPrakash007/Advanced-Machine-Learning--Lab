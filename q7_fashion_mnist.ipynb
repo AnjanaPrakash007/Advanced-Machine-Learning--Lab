{
 "cells": [
  {
   "cell_type": "code",
   "execution_count": 1,
   "id": "c1c5dc5e-9388-44b5-b677-177240a1f6a9",
   "metadata": {},
   "outputs": [
    {
     "name": "stderr",
     "output_type": "stream",
     "text": [
      "2024-08-05 16:27:07.588793: I tensorflow/core/util/port.cc:110] oneDNN custom operations are on. You may see slightly different numerical results due to floating-point round-off errors from different computation orders. To turn them off, set the environment variable `TF_ENABLE_ONEDNN_OPTS=0`.\n",
      "2024-08-05 16:27:07.709993: I tensorflow/tsl/cuda/cudart_stub.cc:28] Could not find cuda drivers on your machine, GPU will not be used.\n",
      "2024-08-05 16:27:08.501774: I tensorflow/tsl/cuda/cudart_stub.cc:28] Could not find cuda drivers on your machine, GPU will not be used.\n",
      "2024-08-05 16:27:08.504367: I tensorflow/core/platform/cpu_feature_guard.cc:182] This TensorFlow binary is optimized to use available CPU instructions in performance-critical operations.\n",
      "To enable the following instructions: AVX2 AVX512F AVX512_VNNI FMA, in other operations, rebuild TensorFlow with the appropriate compiler flags.\n",
      "2024-08-05 16:27:09.643800: W tensorflow/compiler/tf2tensorrt/utils/py_utils.cc:38] TF-TRT Warning: Could not find TensorRT\n"
     ]
    },
    {
     "name": "stdout",
     "output_type": "stream",
     "text": [
      "bias 0.5\n",
      "variance [0. 0. 0. ... 0. 0. 0.]\n"
     ]
    }
   ],
   "source": [
    "import numpy as np\n",
    "import tensorflow as tf\n",
    "from sklearn.metrics import accuracy_score,mean_squared_error\n",
    "from sklearn.utils import resample\n",
    "#dataset loading\n",
    "fashion_mnist=tf.keras.datasets.fashion_mnist\n",
    "(x_train,y_train),(x_test,y_test)=fashion_mnist.load_data()\n",
    "#normalize dataset\n",
    "x_train,x_test=x_train/255.0,x_test/255.0\n",
    "#flatten images\n",
    "x_train=x_train.reshape(x_train.shape[0],-1)\n",
    "x_test=x_test.reshape(x_test.shape[0],-1)\n",
    "#classify between 2 classes 0(tshirt) and 1(trouser)\n",
    "binary_indices_train=np.where((y_train==0)|(y_train==1))[0]\n",
    "binary_indices_test=np.where((y_test==0)|(y_test==1))[0]\n",
    "x_train_binary,y_train_binary=x_train[binary_indices_train],y_train[binary_indices_train]\n",
    "x_test_binary,y_test_binary=x_test[binary_indices_test],y_test[binary_indices_test]\n",
    "#convert labels to 0/1\n",
    "y_train_binary=np.where(y_train_binary==0,0,1)\n",
    "y_test_binary=np.where(y_test_binary==0,0,1)\n",
    "#define sigmoid function\n",
    "def sigmoid(x):\n",
    "    return 1/(1+np.exp(-x))\n",
    "#train the model\n",
    "def train_and_predict(x_train,y_train,x_test):\n",
    "  m=np.zeros(x_train.shape[1])\n",
    "  c=0\n",
    "  LR=0.0001\n",
    "  epochs=50\n",
    "  for epoch in range(1,epochs+1):\n",
    "    for i in range(len(x_train)):\n",
    "      gr_wrt_m=x_train[i]*(y_train[i]-sigmoid(np.dot(m.T,x_train[i])+c))\n",
    "      gr_wrt_c=y_train[i]-sigmoid(np.dot(m.T,x_train[i])+c)\n",
    "      m=m-LR*gr_wrt_m\n",
    "      c=c-LR*gr_wrt_c\n",
    "  predictions=[]\n",
    "  for i in range(len(x_test)):\n",
    "    z=np.dot(m,x_test[i])+c\n",
    "    y_pred=sigmoid(z)\n",
    "    predictions.append(y_pred)\n",
    "  return np.array(predictions)\n",
    "\n",
    "\n",
    "n_models=10\n",
    "all_predictions=[]\n",
    "for _ in range(n_models):\n",
    "  x_resampled,y_resampled=resample(x_train_binary,y_train_binary)\n",
    "  predictions=train_and_predict(x_resampled,y_resampled,x_test_binary)\n",
    "  all_predictions.append(predictions)\n",
    "\n",
    "\n",
    "average_prediction=np.mean(all_predictions,axis=0)\n",
    "bias=mean_squared_error(y_test_binary,average_prediction)\n",
    "print(\"bias\",bias)\n",
    "variance=np.var(all_predictions,axis=0)\n",
    "print(\"variance\",variance)"
   ]
  },
  {
   "cell_type": "code",
   "execution_count": null,
   "id": "78a29748-7744-4b8c-a1a3-6ee54aec3ad5",
   "metadata": {},
   "outputs": [],
   "source": []
  },
  {
   "cell_type": "code",
   "execution_count": null,
   "id": "d05c46bd-6210-440d-a1f6-7d456557ecf8",
   "metadata": {},
   "outputs": [],
   "source": []
  }
 ],
 "metadata": {
  "kernelspec": {
   "display_name": "Python 3 (ipykernel)",
   "language": "python",
   "name": "python3"
  },
  "language_info": {
   "codemirror_mode": {
    "name": "ipython",
    "version": 3
   },
   "file_extension": ".py",
   "mimetype": "text/x-python",
   "name": "python",
   "nbconvert_exporter": "python",
   "pygments_lexer": "ipython3",
   "version": "3.8.10"
  }
 },
 "nbformat": 4,
 "nbformat_minor": 5
}
