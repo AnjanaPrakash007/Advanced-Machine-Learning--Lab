{
 "cells": [
  {
   "cell_type": "code",
   "execution_count": 1,
   "id": "27a8d65b-fde2-4911-b110-7c38cb9ce1bb",
   "metadata": {},
   "outputs": [
    {
     "ename": "ModuleNotFoundError",
     "evalue": "No module named 'gym'",
     "output_type": "error",
     "traceback": [
      "\u001b[0;31m---------------------------------------------------------------------------\u001b[0m",
      "\u001b[0;31mModuleNotFoundError\u001b[0m                       Traceback (most recent call last)",
      "Cell \u001b[0;32mIn[1], line 1\u001b[0m\n\u001b[0;32m----> 1\u001b[0m \u001b[38;5;28;01mimport\u001b[39;00m \u001b[38;5;21;01mgym\u001b[39;00m\n\u001b[1;32m      2\u001b[0m \u001b[38;5;28;01mimport\u001b[39;00m \u001b[38;5;21;01mnumpy\u001b[39;00m \u001b[38;5;28;01mas\u001b[39;00m \u001b[38;5;21;01mnp\u001b[39;00m\n\u001b[1;32m      3\u001b[0m \u001b[38;5;28;01mimport\u001b[39;00m \u001b[38;5;21;01mrandom\u001b[39;00m\n",
      "\u001b[0;31mModuleNotFoundError\u001b[0m: No module named 'gym'"
     ]
    }
   ],
   "source": [
    "import gym\n",
    "import numpy as np\n",
    "import random\n",
    "env=gym.make(\"FrozenLake-v1\",is_slippery=False)\n",
    "alpha=0.1\n",
    "gamma=0.99\n",
    "epsilon=1\n",
    "epsilon_decay=0.99\n",
    "epsilon_min=0.01\n",
    "q_table=np.zeros([env.observation_space.n,env.action_space.n])\n",
    "num_episodes=1000\n",
    "max_steps_per_episode=100\n",
    "#q-learning_algo\n",
    "for episode in range(num_episodes):\n",
    "    state=env.reset()\n",
    "    done=False\n",
    "    step=0\n",
    "    total_reward=0\n",
    "    while not done and step<max_steps_per_episode:\n",
    "        #exploration-exploitataion tradeoff\n",
    "        if random.uniform(0,1)<epsilon:\n",
    "            #explore\n",
    "            action=env.action_space.sample()\n",
    "        else:\n",
    "            #exploit\n",
    "            action=np.argmax(q_table[state,:])\n",
    "        #take action and obsreve outcome\n",
    "        next_state,reward,done, _=env.step(action)\n",
    "        #update q-table\n",
    "        old_value=q_table[state,action]\n",
    "        next_max=np.max(q_table[next_state,:])\n",
    "        new_value=(1-alpha)*old_value+alpha*(reward+gamma*next_max)\n",
    "        q_table[state,action]=new_value\n",
    "\n",
    "        state=next_state\n",
    "        total_reward+=reward\n",
    "        step+=1\n",
    "    if epsilon>epsilon_min:\n",
    "        epsilon*=epsilon_decay\n",
    "    if(episode+1)%100==0:\n",
    "        print(f\"Episode {episode+1}/{num_episodes}-Total reward:{total_reward}-Epsilon:{epsilon}\")\n",
    "        print(f\"Q-table\",q_table)\n",
    "#evaluating the agent\n",
    "num_eval_episodes=100\n",
    "total_reward=0\n",
    "for episode in range(num_eval_episodes):\n",
    "  state=env.reset()\n",
    "  done=False\n",
    "  step=0\n",
    "  episode_reward=0\n",
    "  while not done and step<max_steps_per_episode:\n",
    "    action=np.argmax(q_table[state,:])\n",
    "    next_state,reward,done,_=env.step(action)\n",
    "    episode_reward+=reward\n",
    "    state=next_state\n",
    "    step+=1\n",
    "  total_reward+=episode_reward\n",
    "print(f\"Average reward per episode:{total_reward/num_eval_episodes}\")\n",
    "env.close()"
   ]
  },
  {
   "cell_type": "code",
   "execution_count": 3,
   "id": "63b65352-d4b5-4523-9456-f1777cec7c51",
   "metadata": {},
   "outputs": [
    {
     "name": "stdout",
     "output_type": "stream",
     "text": [
      "Defaulting to user installation because normal site-packages is not writeable\n",
      "Requirement already satisfied: gym in /home/anjana/.local/lib/python3.8/site-packages (0.26.2)\n",
      "Requirement already satisfied: numpy>=1.18.0 in /home/anjana/.local/lib/python3.8/site-packages (from gym) (1.24.3)\n",
      "Requirement already satisfied: cloudpickle>=1.2.0 in /home/anjana/.local/lib/python3.8/site-packages (from gym) (3.0.0)\n",
      "Requirement already satisfied: gym-notices>=0.0.4 in /home/anjana/.local/lib/python3.8/site-packages (from gym) (0.0.8)\n",
      "Requirement already satisfied: importlib-metadata>=4.8.0 in /usr/local/lib/python3.8/dist-packages (from gym) (7.0.1)\n",
      "Requirement already satisfied: zipp>=0.5 in /home/anjana/.local/lib/python3.8/site-packages (from importlib-metadata>=4.8.0->gym) (3.17.0)\n",
      "\u001b[33mWARNING: Error parsing dependencies of python-debian: Invalid version: '0.1.36ubuntu1'\u001b[0m\u001b[33m\n",
      "\u001b[0m\n",
      "\u001b[1m[\u001b[0m\u001b[34;49mnotice\u001b[0m\u001b[1;39;49m]\u001b[0m\u001b[39;49m A new release of pip is available: \u001b[0m\u001b[31;49m24.1.1\u001b[0m\u001b[39;49m -> \u001b[0m\u001b[32;49m24.2\u001b[0m\n",
      "\u001b[1m[\u001b[0m\u001b[34;49mnotice\u001b[0m\u001b[1;39;49m]\u001b[0m\u001b[39;49m To update, run: \u001b[0m\u001b[32;49mpython3 -m pip install --upgrade pip\u001b[0m\n",
      "Note: you may need to restart the kernel to use updated packages.\n"
     ]
    }
   ],
   "source": [
    "pip install gym"
   ]
  },
  {
   "cell_type": "code",
   "execution_count": 5,
   "id": "da822466-9fcc-423e-b7e0-20c53ac144bf",
   "metadata": {},
   "outputs": [
    {
     "ename": "SyntaxError",
     "evalue": "invalid syntax (3554063120.py, line 1)",
     "output_type": "error",
     "traceback": [
      "\u001b[0;36m  Cell \u001b[0;32mIn[5], line 1\u001b[0;36m\u001b[0m\n\u001b[0;31m    python3 -m pip3 install --upgrade pip\u001b[0m\n\u001b[0m               ^\u001b[0m\n\u001b[0;31mSyntaxError\u001b[0m\u001b[0;31m:\u001b[0m invalid syntax\n"
     ]
    }
   ],
   "source": [
    "python3 -m pip3 install --upgrade pip"
   ]
  }
 ],
 "metadata": {
  "kernelspec": {
   "display_name": "Python 3 (ipykernel)",
   "language": "python",
   "name": "python3"
  },
  "language_info": {
   "codemirror_mode": {
    "name": "ipython",
    "version": 3
   },
   "file_extension": ".py",
   "mimetype": "text/x-python",
   "name": "python",
   "nbconvert_exporter": "python",
   "pygments_lexer": "ipython3",
   "version": "3.8.10"
  }
 },
 "nbformat": 4,
 "nbformat_minor": 5
}
