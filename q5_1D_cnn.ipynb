{
 "cells": [
  {
   "cell_type": "code",
   "execution_count": 7,
   "id": "b725828c-5199-4b54-86e0-07bfa0d05e83",
   "metadata": {},
   "outputs": [
    {
     "name": "stdout",
     "output_type": "stream",
     "text": [
      "Model: \"sequential_3\"\n",
      "_________________________________________________________________\n",
      " Layer (type)                Output Shape              Param #   \n",
      "=================================================================\n",
      " conv1d_3 (Conv1D)           (None, 98, 64)            256       \n",
      "                                                                 \n",
      " max_pooling1d_3 (MaxPoolin  (None, 49, 64)            0         \n",
      " g1D)                                                            \n",
      "                                                                 \n",
      " flatten_3 (Flatten)         (None, 3136)              0         \n",
      "                                                                 \n",
      " dense_6 (Dense)             (None, 128)               401536    \n",
      "                                                                 \n",
      " dropout_3 (Dropout)         (None, 128)               0         \n",
      "                                                                 \n",
      " dense_7 (Dense)             (None, 10)                1290      \n",
      "                                                                 \n",
      "=================================================================\n",
      "Total params: 403082 (1.54 MB)\n",
      "Trainable params: 403082 (1.54 MB)\n",
      "Non-trainable params: 0 (0.00 Byte)\n",
      "_________________________________________________________________\n",
      "Epoch 1/10\n",
      "25/25 [==============================] - 1s 18ms/step - loss: 2.3538 - sparse_categorical_accuracy: 0.1063 - val_loss: 2.3164 - val_sparse_categorical_accuracy: 0.0850\n",
      "Epoch 2/10\n",
      "25/25 [==============================] - 0s 11ms/step - loss: 2.3070 - sparse_categorical_accuracy: 0.1112 - val_loss: 2.3071 - val_sparse_categorical_accuracy: 0.0850\n",
      "Epoch 3/10\n",
      "25/25 [==============================] - 0s 11ms/step - loss: 2.3007 - sparse_categorical_accuracy: 0.1100 - val_loss: 2.3066 - val_sparse_categorical_accuracy: 0.0850\n",
      "Epoch 4/10\n",
      "25/25 [==============================] - 0s 11ms/step - loss: 2.2944 - sparse_categorical_accuracy: 0.1088 - val_loss: 2.3096 - val_sparse_categorical_accuracy: 0.0800\n",
      "Epoch 5/10\n",
      "25/25 [==============================] - 0s 12ms/step - loss: 2.2844 - sparse_categorical_accuracy: 0.1338 - val_loss: 2.3101 - val_sparse_categorical_accuracy: 0.0750\n",
      "Epoch 6/10\n",
      "25/25 [==============================] - 0s 11ms/step - loss: 2.2833 - sparse_categorical_accuracy: 0.1412 - val_loss: 2.3111 - val_sparse_categorical_accuracy: 0.0900\n",
      "Epoch 7/10\n",
      "25/25 [==============================] - 0s 11ms/step - loss: 2.2796 - sparse_categorical_accuracy: 0.1450 - val_loss: 2.3163 - val_sparse_categorical_accuracy: 0.1050\n",
      "Epoch 8/10\n",
      "25/25 [==============================] - 0s 12ms/step - loss: 2.2606 - sparse_categorical_accuracy: 0.1650 - val_loss: 2.3221 - val_sparse_categorical_accuracy: 0.0850\n",
      "Epoch 9/10\n",
      "25/25 [==============================] - 0s 11ms/step - loss: 2.2603 - sparse_categorical_accuracy: 0.1538 - val_loss: 2.3051 - val_sparse_categorical_accuracy: 0.0650\n",
      "Epoch 10/10\n",
      "25/25 [==============================] - 0s 19ms/step - loss: 2.2490 - sparse_categorical_accuracy: 0.1875 - val_loss: 2.3118 - val_sparse_categorical_accuracy: 0.0850\n"
     ]
    },
    {
     "data": {
      "text/plain": [
       "<keras.src.callbacks.History at 0x7efd99bb6070>"
      ]
     },
     "execution_count": 7,
     "metadata": {},
     "output_type": "execute_result"
    }
   ],
   "source": [
    "import numpy as np\n",
    "from tensorflow.keras.models import Sequential\n",
    "from tensorflow.keras.layers import Conv1D,MaxPooling1D,Flatten,Dense,Dropout\n",
    "from tensorflow.keras.optimizers import Adam\n",
    "from tensorflow.keras.losses import SparseCategoricalCrossentropy\n",
    "from tensorflow.keras.metrics import SparseCategoricalAccuracy\n",
    "# generate dummy data\n",
    "num_sequences=1000\n",
    "sequence_length=100\n",
    "num_features=1\n",
    "num_classes=10\n",
    "x=np.random.rand(num_sequences,sequence_length,num_features)\n",
    "y=np.random.randint(0,num_classes,num_sequences)\n",
    "model=Sequential([\n",
    "    Conv1D(64,3,activation='relu',input_shape=(sequence_length,num_features)),\n",
    "    MaxPooling1D(pool_size=2),\n",
    "    Flatten(),\n",
    "    Dense(128,activation='relu'),\n",
    "    Dropout(0.5),\n",
    "    Dense(num_classes,activation='softmax') ,   \n",
    "])\n",
    "model.compile(optimizer=Adam(), loss=SparseCategoricalCrossentropy(), metrics=[SparseCategoricalAccuracy()])\n",
    "model.summary()\n",
    "model.fit(x,y,epochs=10,batch_size=32,validation_split=0.2)"
   ]
  },
  {
   "cell_type": "code",
   "execution_count": null,
   "id": "d0bd64eb-6cd1-47df-9a67-a6f7cff6885e",
   "metadata": {},
   "outputs": [],
   "source": []
  },
  {
   "cell_type": "code",
   "execution_count": null,
   "id": "fb84401c-340a-4f8d-a80f-58b6c26f3afb",
   "metadata": {},
   "outputs": [],
   "source": []
  }
 ],
 "metadata": {
  "kernelspec": {
   "display_name": "Python 3 (ipykernel)",
   "language": "python",
   "name": "python3"
  },
  "language_info": {
   "codemirror_mode": {
    "name": "ipython",
    "version": 3
   },
   "file_extension": ".py",
   "mimetype": "text/x-python",
   "name": "python",
   "nbconvert_exporter": "python",
   "pygments_lexer": "ipython3",
   "version": "3.8.10"
  }
 },
 "nbformat": 4,
 "nbformat_minor": 5
}
